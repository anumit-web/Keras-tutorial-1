{
  "nbformat": 4,
  "nbformat_minor": 0,
  "metadata": {
    "colab": {
      "provenance": [],
      "include_colab_link": true
    },
    "kernelspec": {
      "name": "python3",
      "display_name": "Python 3"
    },
    "language_info": {
      "name": "python"
    }
  },
  "cells": [
    {
      "cell_type": "markdown",
      "metadata": {
        "id": "view-in-github",
        "colab_type": "text"
      },
      "source": [
        "<a href=\"https://colab.research.google.com/github/anumit-web/Keras-tutorial-1/blob/main/Keras_test_1.ipynb\" target=\"_parent\"><img src=\"https://colab.research.google.com/assets/colab-badge.svg\" alt=\"Open In Colab\"/></a>"
      ]
    },
    {
      "cell_type": "markdown",
      "source": [
        "## Keras\n",
        "## Image Classification"
      ],
      "metadata": {
        "id": "fl_wqtta4g0C"
      }
    },
    {
      "cell_type": "code",
      "source": [
        "print(\"Hello, World!\")"
      ],
      "metadata": {
        "colab": {
          "base_uri": "https://localhost:8080/"
        },
        "id": "mF2ZMmhX4hVW",
        "outputId": "5cb85a22-e30e-4f2d-ae49-8007362157e9"
      },
      "execution_count": null,
      "outputs": [
        {
          "output_type": "stream",
          "name": "stdout",
          "text": [
            "Hello, World!\n"
          ]
        }
      ]
    },
    {
      "cell_type": "code",
      "source": [
        "from keras.models import Sequential\n",
        "from keras.layers import Conv2D, MaxPooling2D, Flatten, Dense\n",
        "from keras.preprocessing.image import ImageDataGenerator\n",
        "from keras.optimizers import Adam\n",
        "from keras.utils import to_categorical\n",
        "import numpy as np\n",
        "import matplotlib.pyplot as plt"
      ],
      "metadata": {
        "id": "w4WM9gRL5Eqs"
      },
      "execution_count": null,
      "outputs": []
    },
    {
      "cell_type": "code",
      "source": [
        "# Load the CIFAR-10 dataset\n",
        "from keras.datasets import cifar10\n",
        "(x_train, y_train), (x_test, y_test) = cifar10.load_data()\n",
        "\n",
        "# Normalize the input data\n",
        "x_train = x_train.astype('float32') / 255\n",
        "x_test = x_test.astype('float32') / 255\n",
        "\n",
        "# Convert the class labels to categorical labels\n",
        "y_train = to_categorical(y_train, 10)\n",
        "y_test = to_categorical(y_test, 10)"
      ],
      "metadata": {
        "id": "Sya3b-QS5Qre"
      },
      "execution_count": null,
      "outputs": []
    },
    {
      "cell_type": "code",
      "source": [
        "# Define the model architecture\n",
        "model = Sequential()\n",
        "model.add(Conv2D(32, (3, 3), activation='relu', input_shape=(32, 32, 3)))\n",
        "model.add(MaxPooling2D((2, 2)))\n",
        "model.add(Conv2D(64, (3, 3), activation='relu'))\n",
        "model.add(MaxPooling2D((2, 2)))\n",
        "model.add(Conv2D(128, (3, 3), activation='relu'))\n",
        "model.add(MaxPooling2D((2, 2)))\n",
        "model.add(Flatten())\n",
        "model.add(Dense(128, activation='relu'))\n",
        "model.add(Dense(10, activation='softmax'))"
      ],
      "metadata": {
        "id": "mK_LQgIG5gaw"
      },
      "execution_count": null,
      "outputs": []
    },
    {
      "cell_type": "code",
      "source": [
        "# Compile the model\n",
        "model.compile(optimizer=Adam(lr=0.001), loss='categorical_crossentropy', metrics=['accuracy'])"
      ],
      "metadata": {
        "id": "rOFYXEFj5sM9",
        "outputId": "d21a98d0-8d39-4ef0-f929-dd0713cc6a03",
        "colab": {
          "base_uri": "https://localhost:8080/"
        }
      },
      "execution_count": null,
      "outputs": [
        {
          "output_type": "stream",
          "name": "stderr",
          "text": [
            "WARNING:absl:`lr` is deprecated in Keras optimizer, please use `learning_rate` or use the legacy optimizer, e.g.,tf.keras.optimizers.legacy.Adam.\n"
          ]
        }
      ]
    },
    {
      "cell_type": "code",
      "source": [
        "# Train the model\n",
        "history = model.fit(x_train, y_train, epochs=10, batch_size=128, validation_data=(x_test, y_test))"
      ],
      "metadata": {
        "id": "1BH2eb9B6dck",
        "outputId": "0c8e4165-26cf-4d4f-8694-68c6ce2047d3",
        "colab": {
          "base_uri": "https://localhost:8080/"
        }
      },
      "execution_count": 34,
      "outputs": [
        {
          "metadata": {
            "tags": null
          },
          "name": "stdout",
          "output_type": "stream",
          "text": [
            "Epoch 1/10\n",
            "391/391 [==============================] - 71s 177ms/step - loss: 1.6777 - accuracy: 0.3870 - val_loss: 1.4065 - val_accuracy: 0.4918\n",
            "Epoch 2/10\n",
            "391/391 [==============================] - 71s 182ms/step - loss: 1.3178 - accuracy: 0.5286 - val_loss: 1.2359 - val_accuracy: 0.5561\n",
            "Epoch 3/10\n",
            "391/391 [==============================] - 69s 176ms/step - loss: 1.1550 - accuracy: 0.5898 - val_loss: 1.1483 - val_accuracy: 0.5920\n",
            "Epoch 4/10\n",
            "391/391 [==============================] - 68s 174ms/step - loss: 1.0393 - accuracy: 0.6339 - val_loss: 1.0313 - val_accuracy: 0.6446\n",
            "Epoch 5/10\n",
            "391/391 [==============================] - 67s 171ms/step - loss: 0.9586 - accuracy: 0.6636 - val_loss: 1.0075 - val_accuracy: 0.6437\n",
            "Epoch 6/10\n",
            "391/391 [==============================] - 69s 176ms/step - loss: 0.8872 - accuracy: 0.6904 - val_loss: 1.0037 - val_accuracy: 0.6467\n",
            "Epoch 7/10\n",
            "391/391 [==============================] - 67s 171ms/step - loss: 0.8272 - accuracy: 0.7107 - val_loss: 0.9213 - val_accuracy: 0.6833\n",
            "Epoch 8/10\n",
            "391/391 [==============================] - 67s 171ms/step - loss: 0.7707 - accuracy: 0.7320 - val_loss: 0.8677 - val_accuracy: 0.7042\n",
            "Epoch 9/10\n",
            "391/391 [==============================] - 66s 169ms/step - loss: 0.7172 - accuracy: 0.7501 - val_loss: 0.8600 - val_accuracy: 0.7053\n",
            "Epoch 10/10\n",
            "391/391 [==============================] - 69s 177ms/step - loss: 0.6821 - accuracy: 0.7620 - val_loss: 0.8532 - val_accuracy: 0.7094\n"
          ]
        }
      ]
    },
    {
      "cell_type": "code",
      "source": [
        "# Evaluate the model\n",
        "loss, accuracy = model.evaluate(x_test, y_test)\n",
        "print(f'Test accuracy: {accuracy:.2f}')"
      ],
      "metadata": {
        "id": "BZoaQ7Ad59iW",
        "outputId": "0e959290-51e3-4497-f738-3b8ec9b735f8",
        "colab": {
          "base_uri": "https://localhost:8080/"
        }
      },
      "execution_count": 35,
      "outputs": [
        {
          "metadata": {
            "tags": null
          },
          "name": "stdout",
          "output_type": "stream",
          "text": [
            "313/313 [==============================] - 4s 12ms/step - loss: 0.8532 - accuracy: 0.7094\n",
            "Test accuracy: 0.71\n"
          ]
        }
      ]
    },
    {
      "cell_type": "code",
      "source": [
        "# Plot the training and validation accuracy\n",
        "plt.plot(history.history['accuracy'], label='Training Accuracy')\n",
        "plt.plot(history.history['val_accuracy'], label='Validation Accuracy')\n",
        "plt.legend()\n",
        "plt.show()"
      ],
      "metadata": {
        "id": "jG7eTpsK6Nzl",
        "outputId": "52a04436-09f4-403b-c50e-4b4faa514ce8",
        "colab": {
          "base_uri": "https://localhost:8080/",
          "height": 430
        }
      },
      "execution_count": 36,
      "outputs": [
        {
          "data": {
            "image/png": "[encoded data removed]",
            "text/plain": [
              "<Figure size 640x480 with 1 Axes>"
            ]
          },
          "metadata": {},
          "output_type": "display_data"
        }
      ]
    }
  ]
}